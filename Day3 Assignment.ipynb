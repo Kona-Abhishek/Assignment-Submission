{
 "cells": [
  {
   "cell_type": "markdown",
   "metadata": {},
   "source": [
    "# Question 1:\n",
    "Create a numpy array starting from 2 till 50 with a stepsize of 3."
   ]
  },
  {
   "cell_type": "code",
   "execution_count": 1,
   "metadata": {},
   "outputs": [
    {
     "name": "stdout",
     "output_type": "stream",
     "text": [
      "[ 2  5  8 11 14 17 20 23 26 29 32 35 38 41 44 47]\n"
     ]
    }
   ],
   "source": [
    "import numpy as np\n",
    "numbers = np.arange(2,50,3)\n",
    "print(numbers)"
   ]
  },
  {
   "cell_type": "markdown",
   "metadata": {},
   "source": [
    "# Question 2:\n",
    "Accept two lists of 5 elements each from the user.\n",
    "Convert them to numpy arrays. Concatenate these arrays and print it. Also sort these arrays and print it.\n"
   ]
  },
  {
   "cell_type": "code",
   "execution_count": 8,
   "metadata": {},
   "outputs": [
    {
     "name": "stdout",
     "output_type": "stream",
     "text": [
      "78\n",
      "45\n",
      "98\n",
      "34\n",
      "12\n",
      "65\n",
      "47\n",
      "36\n",
      "321\n",
      "123\n",
      "[ 12  34  36  45  47  65  78  98 123 321]\n"
     ]
    }
   ],
   "source": [
    "list1=[]\n",
    "list2=[]\n",
    "for i in range(10):\n",
    "    input_val=int(input())\n",
    "    if i<5:\n",
    "        list1.append(input_val)\n",
    "    if i>=5:\n",
    "        list2.append(input_val)\n",
    "list1 = np.array(list1)\n",
    "list2 = np.array(list2)\n",
    "concatenated_list = np.concatenate((list1,list2))\n",
    "print(np.sort(concatenated_list))"
   ]
  },
  {
   "cell_type": "markdown",
   "metadata": {},
   "source": [
    "# Question 3:\n",
    "Write a code snippet to find the dimensions of a ndarray and its size.\n"
   ]
  },
  {
   "cell_type": "code",
   "execution_count": 18,
   "metadata": {},
   "outputs": [
    {
     "name": "stdout",
     "output_type": "stream",
     "text": [
      "2\n",
      "10\n"
     ]
    }
   ],
   "source": [
    "list1 = np.arange(31,36,1)\n",
    "list2 = np.arange(11,16,1)\n",
    "arr = np.array([list1,list2])\n",
    "print(arr.ndim)\n",
    "print(arr.size)\n"
   ]
  },
  {
   "cell_type": "markdown",
   "metadata": {},
   "source": [
    "# Question 4:\n",
    "How to convert a 1D array into a 2D array? Demonstrate with the help of a code snippet\n",
    "Hint: np.newaxis, np.expand_dims"
   ]
  },
  {
   "cell_type": "code",
   "execution_count": 56,
   "metadata": {},
   "outputs": [
    {
     "name": "stdout",
     "output_type": "stream",
     "text": [
      "[[0 1 2 3 4]\n",
      " [5 6 7 8 9]]\n",
      " Array shape: (2, 5)\n",
      "[[0 1 2 3 4 5 6 7 8 9]]\n",
      "Array shape: (1, 10)\n",
      "[[0 1 2 3 4 5 6 7 8 9]]\n",
      "Array shape: (1, 10)\n"
     ]
    }
   ],
   "source": [
    "arr = np.arange(10)\n",
    "#using reshape\n",
    "arr1 = np.reshape(arr,(2,5))\n",
    "print(arr1)\n",
    "print(\" Array shape:\",arr1.shape)\n",
    "#using expand_dims\n",
    "arr2 = np.expand_dims(arr,axis=0)\n",
    "print(arr2)\n",
    "print(\"Array shape:\",arr2.shape)\n",
    "#using newaxis\n",
    "print(arr[np.newaxis,:])\n",
    "print(\"Array shape:\",arr[np.newaxis,:].shape)"
   ]
  },
  {
   "cell_type": "markdown",
   "metadata": {},
   "source": [
    "# Question 5:\n",
    "Consider two square numpy arrays. Stack them vertically and horizontally.\n",
    "Hint: Use vstack(), hstack() "
   ]
  },
  {
   "cell_type": "code",
   "execution_count": 67,
   "metadata": {},
   "outputs": [
    {
     "name": "stdout",
     "output_type": "stream",
     "text": [
      "[[ 0  1 10 20]\n",
      " [ 2  3 30 40]]\n",
      "[[ 0  1]\n",
      " [ 2  3]\n",
      " [10 20]\n",
      " [30 40]]\n"
     ]
    }
   ],
   "source": [
    "arr = np.arange(4).reshape(2,2)\n",
    "arr2 = np.arange(10,50,10).reshape(2,2)\n",
    "print(np.hstack((arr,arr2)))\n",
    "print(np.vstack((arr,arr2)))"
   ]
  },
  {
   "cell_type": "markdown",
   "metadata": {},
   "source": [
    "# Question 6:\n",
    "How to get unique items and counts of unique items?"
   ]
  },
  {
   "cell_type": "code",
   "execution_count": 72,
   "metadata": {},
   "outputs": [
    {
     "name": "stdout",
     "output_type": "stream",
     "text": [
      "[ 1  2  3  5  6  7 10 20]\n",
      "8\n"
     ]
    }
   ],
   "source": [
    "arr = np.array([2,3,2,5,2,6,7,10,1,1,20])\n",
    "print(np.unique(arr))\n",
    "print(len(np.unique(arr)))"
   ]
  },
  {
   "cell_type": "code",
   "execution_count": null,
   "metadata": {},
   "outputs": [],
   "source": []
  }
 ],
 "metadata": {
  "kernelspec": {
   "display_name": "Python 3",
   "language": "python",
   "name": "python3"
  },
  "language_info": {
   "codemirror_mode": {
    "name": "ipython",
    "version": 3
   },
   "file_extension": ".py",
   "mimetype": "text/x-python",
   "name": "python",
   "nbconvert_exporter": "python",
   "pygments_lexer": "ipython3",
   "version": "3.8.3"
  }
 },
 "nbformat": 4,
 "nbformat_minor": 4
}
